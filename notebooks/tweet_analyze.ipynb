{
 "cells": [
  {
   "cell_type": "markdown",
   "source": [
    "# Tweets Analyze\n",
    "Twitter is important social media nowadays. Many companies conduct their advertising\n",
    "campaigns there to reach their customers. The question is: Can We see what's inside heads\n",
    "of thousands of people. Access to that knowledge can result in better market understanding,\n",
    "advertisement targeting and mostly important - our customers behaviour."
   ],
   "metadata": {
    "collapsed": false
   }
  },
  {
   "cell_type": "code",
   "execution_count": 1,
   "metadata": {
    "collapsed": true
   },
   "outputs": [],
   "source": [
    "import json\n",
    "import numpy as np\n",
    "import pandas as pd\n",
    "import seaborn as sns\n",
    "from scripts.nlp import TweetNormalizer, SentimentAnalyzer, TopWords\n",
    "from sklearn.feature_extraction.text import TfidfVectorizer\n",
    "from sklearn.decomposition import LatentDirichletAllocation\n",
    "from sklearn.manifold import TSNE\n",
    "from sklearn.pipeline import Pipeline\n",
    "import pyLDAvis\n",
    "import pyLDAvis.sklearn\n",
    "from pickle import dump\n",
    "import warnings\n",
    "\n",
    "pyLDAvis.enable_notebook()\n",
    "warnings.filterwarnings('ignore', category=DeprecationWarning)  # There is issue with ipython and pyLDAvis\n",
    "pd.options.display.float_format = '{:.2f}'.format"
   ]
  },
  {
   "cell_type": "markdown",
   "source": [
    "### Loading data\n",
    "Data has been collected through Twitter API and Tweepy library. Script to get new data\n",
    "can be found in ~/scripts/TwitterCollector.py To get new data call there\n",
    "```console\n",
    "$ python TwitterCollector.py <query search> <number of items to look for>\n",
    "```\n",
    "I'm going to change data types of loaded dataset and display quick summaries."
   ],
   "metadata": {
    "collapsed": false
   }
  },
  {
   "cell_type": "code",
   "execution_count": 2,
   "outputs": [
    {
     "name": "stdout",
     "output_type": "stream",
     "text": [
      "<class 'pandas.core.frame.DataFrame'>\n",
      "RangeIndex: 13122 entries, 0 to 13121\n",
      "Data columns (total 3 columns):\n",
      " #   Column          Non-Null Count  Dtype \n",
      "---  ------          --------------  ----- \n",
      " 0   Full_text       13122 non-null  string\n",
      " 1   Retweet_count   13122 non-null  int64 \n",
      " 2   Favorite_count  13122 non-null  int64 \n",
      "dtypes: int64(2), string(1)\n",
      "memory usage: 307.7 KB\n"
     ]
    }
   ],
   "source": [
    "df = pd.read_csv('../data/tweets.csv')\n",
    "\n",
    "df['Full_text'] = df['Full_text'].astype('string')\n",
    "df[['Retweet_count', 'Favorite_count']] = df[['Retweet_count', 'Favorite_count']].astype('int')\n",
    "\n",
    "df.info()"
   ],
   "metadata": {
    "collapsed": false,
    "pycharm": {
     "name": "#%%\n"
    }
   }
  },
  {
   "cell_type": "code",
   "execution_count": 3,
   "outputs": [
    {
     "data": {
      "text/plain": "                                           Full_text  Retweet_count  \\\n0  @dprice2413 @Nicki_coming @playboiprint @jethm...              0   \n1  Updated: Nokia Mobile smartphones Android 11 u...              3   \n2           @girlsinrap @itslakeyah When will Nokia?              0   \n3  Turkish Nokia Style Ringtone 2021\n#MIvsRCB #M...              1   \n4  I suddenly miss transferring songs via bluetoo...              0   \n5  @_AshleyChristie listen this photo is like 5 y...              0   \n6  RT @Gadgets360: Flipkart has launched two pair...              6   \n7  I so wanted to like #lovetrustkeep by @NokiaMo...              1   \n8  RT @rockleaks: Nokia C20 gets Bluetooth certif...              1   \n9  Flipkart Launches Nokia Bluetooth Neckband &am...              0   \n\n   Favorite_count  \n0               0  \n1              72  \n2               0  \n3               0  \n4               5  \n5               1  \n6               0  \n7               1  \n8               0  \n9               0  ",
      "text/html": "<div>\n<style scoped>\n    .dataframe tbody tr th:only-of-type {\n        vertical-align: middle;\n    }\n\n    .dataframe tbody tr th {\n        vertical-align: top;\n    }\n\n    .dataframe thead th {\n        text-align: right;\n    }\n</style>\n<table border=\"1\" class=\"dataframe\">\n  <thead>\n    <tr style=\"text-align: right;\">\n      <th></th>\n      <th>Full_text</th>\n      <th>Retweet_count</th>\n      <th>Favorite_count</th>\n    </tr>\n  </thead>\n  <tbody>\n    <tr>\n      <th>0</th>\n      <td>@dprice2413 @Nicki_coming @playboiprint @jethm...</td>\n      <td>0</td>\n      <td>0</td>\n    </tr>\n    <tr>\n      <th>1</th>\n      <td>Updated: Nokia Mobile smartphones Android 11 u...</td>\n      <td>3</td>\n      <td>72</td>\n    </tr>\n    <tr>\n      <th>2</th>\n      <td>@girlsinrap @itslakeyah When will Nokia?</td>\n      <td>0</td>\n      <td>0</td>\n    </tr>\n    <tr>\n      <th>3</th>\n      <td>Turkish Nokia Style Ringtone 2021\r\n#MIvsRCB #M...</td>\n      <td>1</td>\n      <td>0</td>\n    </tr>\n    <tr>\n      <th>4</th>\n      <td>I suddenly miss transferring songs via bluetoo...</td>\n      <td>0</td>\n      <td>5</td>\n    </tr>\n    <tr>\n      <th>5</th>\n      <td>@_AshleyChristie listen this photo is like 5 y...</td>\n      <td>0</td>\n      <td>1</td>\n    </tr>\n    <tr>\n      <th>6</th>\n      <td>RT @Gadgets360: Flipkart has launched two pair...</td>\n      <td>6</td>\n      <td>0</td>\n    </tr>\n    <tr>\n      <th>7</th>\n      <td>I so wanted to like #lovetrustkeep by @NokiaMo...</td>\n      <td>1</td>\n      <td>1</td>\n    </tr>\n    <tr>\n      <th>8</th>\n      <td>RT @rockleaks: Nokia C20 gets Bluetooth certif...</td>\n      <td>1</td>\n      <td>0</td>\n    </tr>\n    <tr>\n      <th>9</th>\n      <td>Flipkart Launches Nokia Bluetooth Neckband &amp;am...</td>\n      <td>0</td>\n      <td>0</td>\n    </tr>\n  </tbody>\n</table>\n</div>"
     },
     "execution_count": 3,
     "metadata": {},
     "output_type": "execute_result"
    }
   ],
   "source": [
    "df.head(10)"
   ],
   "metadata": {
    "collapsed": false,
    "pycharm": {
     "name": "#%%\n"
    }
   }
  },
  {
   "cell_type": "markdown",
   "source": [
    "We can see that many tweets have both 0 retweets nad likes,\n",
    "but there are some really popular among others"
   ],
   "metadata": {
    "collapsed": false,
    "pycharm": {
     "name": "#%% md\n"
    }
   }
  },
  {
   "cell_type": "code",
   "execution_count": 4,
   "outputs": [
    {
     "data": {
      "text/plain": "       Retweet_count  Favorite_count\ncount       13122.00        13122.00\nmean           97.36            5.13\nstd          2014.16          114.91\nmin             0.00            0.00\n25%             0.00            0.00\n50%             0.00            0.00\n75%             0.00            1.00\nmax        103343.00        11708.00",
      "text/html": "<div>\n<style scoped>\n    .dataframe tbody tr th:only-of-type {\n        vertical-align: middle;\n    }\n\n    .dataframe tbody tr th {\n        vertical-align: top;\n    }\n\n    .dataframe thead th {\n        text-align: right;\n    }\n</style>\n<table border=\"1\" class=\"dataframe\">\n  <thead>\n    <tr style=\"text-align: right;\">\n      <th></th>\n      <th>Retweet_count</th>\n      <th>Favorite_count</th>\n    </tr>\n  </thead>\n  <tbody>\n    <tr>\n      <th>count</th>\n      <td>13122.00</td>\n      <td>13122.00</td>\n    </tr>\n    <tr>\n      <th>mean</th>\n      <td>97.36</td>\n      <td>5.13</td>\n    </tr>\n    <tr>\n      <th>std</th>\n      <td>2014.16</td>\n      <td>114.91</td>\n    </tr>\n    <tr>\n      <th>min</th>\n      <td>0.00</td>\n      <td>0.00</td>\n    </tr>\n    <tr>\n      <th>25%</th>\n      <td>0.00</td>\n      <td>0.00</td>\n    </tr>\n    <tr>\n      <th>50%</th>\n      <td>0.00</td>\n      <td>0.00</td>\n    </tr>\n    <tr>\n      <th>75%</th>\n      <td>0.00</td>\n      <td>1.00</td>\n    </tr>\n    <tr>\n      <th>max</th>\n      <td>103343.00</td>\n      <td>11708.00</td>\n    </tr>\n  </tbody>\n</table>\n</div>"
     },
     "execution_count": 4,
     "metadata": {},
     "output_type": "execute_result"
    }
   ],
   "source": [
    "df.describe()"
   ],
   "metadata": {
    "collapsed": false,
    "pycharm": {
     "name": "#%%\n"
    }
   }
  },
  {
   "cell_type": "markdown",
   "source": [
    "### Data normalization\n",
    "I've built custom sklearn transformer class to preprocess tweets. It consists of\n",
    "* removing urls, hashtags and random punctuation\n",
    "* removing stopwords\n",
    "* building bag of words model as intermediate step\n",
    "* lemmatization through WordNetLemmatizer\n"
   ],
   "metadata": {
    "collapsed": false,
    "pycharm": {
     "name": "#%% md\n"
    }
   }
  },
  {
   "cell_type": "code",
   "execution_count": 5,
   "outputs": [
    {
     "data": {
      "text/plain": "0                                          maybe nokia\n1    updated nokia mobile smartphones android 11 up...\n2                                                nokia\n3    turkish nokia style ringtone 2021 mivsrcb mist...\n4    suddenly miss transferring song via bluetooth ...\nName: Preprocessed_text, dtype: object"
     },
     "execution_count": 5,
     "metadata": {},
     "output_type": "execute_result"
    }
   ],
   "source": [
    "normalizer = TweetNormalizer()\n",
    "df['Preprocessed_text'] = normalizer.fit_transform(df['Full_text'])\n",
    "\n",
    "df['Preprocessed_text'].head()"
   ],
   "metadata": {
    "collapsed": false,
    "pycharm": {
     "name": "#%%\n"
    }
   }
  },
  {
   "cell_type": "markdown",
   "source": [
    "### Sentiment intensity analyze\n",
    "I'm going to use sklearn wrapper I've built for nltk.sentiment.vader Sentiment Analyzer. It was trained\n",
    "to be used on text data from social media, products reviews and news editorials. One of it's\n",
    "advantages is speed, so It can be used with online streaming data."
   ],
   "metadata": {
    "collapsed": false,
    "pycharm": {
     "name": "#%% md\n"
    }
   }
  },
  {
   "cell_type": "code",
   "execution_count": 6,
   "outputs": [
    {
     "data": {
      "text/plain": "       Negative  Neutral  Positive\ncount  13122.00 13122.00  13122.00\nmean       0.05     0.81      0.14\nstd        0.12     0.20      0.18\nmin        0.00     0.00      0.00\n25%        0.00     0.66      0.00\n50%        0.00     0.84      0.00\n75%        0.00     1.00      0.24\nmax        1.00     1.00      1.00",
      "text/html": "<div>\n<style scoped>\n    .dataframe tbody tr th:only-of-type {\n        vertical-align: middle;\n    }\n\n    .dataframe tbody tr th {\n        vertical-align: top;\n    }\n\n    .dataframe thead th {\n        text-align: right;\n    }\n</style>\n<table border=\"1\" class=\"dataframe\">\n  <thead>\n    <tr style=\"text-align: right;\">\n      <th></th>\n      <th>Negative</th>\n      <th>Neutral</th>\n      <th>Positive</th>\n    </tr>\n  </thead>\n  <tbody>\n    <tr>\n      <th>count</th>\n      <td>13122.00</td>\n      <td>13122.00</td>\n      <td>13122.00</td>\n    </tr>\n    <tr>\n      <th>mean</th>\n      <td>0.05</td>\n      <td>0.81</td>\n      <td>0.14</td>\n    </tr>\n    <tr>\n      <th>std</th>\n      <td>0.12</td>\n      <td>0.20</td>\n      <td>0.18</td>\n    </tr>\n    <tr>\n      <th>min</th>\n      <td>0.00</td>\n      <td>0.00</td>\n      <td>0.00</td>\n    </tr>\n    <tr>\n      <th>25%</th>\n      <td>0.00</td>\n      <td>0.66</td>\n      <td>0.00</td>\n    </tr>\n    <tr>\n      <th>50%</th>\n      <td>0.00</td>\n      <td>0.84</td>\n      <td>0.00</td>\n    </tr>\n    <tr>\n      <th>75%</th>\n      <td>0.00</td>\n      <td>1.00</td>\n      <td>0.24</td>\n    </tr>\n    <tr>\n      <th>max</th>\n      <td>1.00</td>\n      <td>1.00</td>\n      <td>1.00</td>\n    </tr>\n  </tbody>\n</table>\n</div>"
     },
     "execution_count": 6,
     "metadata": {},
     "output_type": "execute_result"
    }
   ],
   "source": [
    "sa = SentimentAnalyzer()\n",
    "\n",
    "sentiment = sa.fit_predict(df['Preprocessed_text'])\n",
    "df[['Negative', 'Neutral', 'Positive', 'Compound']] = pd.DataFrame.from_records(sentiment)\n",
    "\n",
    "df[['Negative', 'Neutral', 'Positive']].describe()"
   ],
   "metadata": {
    "collapsed": false,
    "pycharm": {
     "name": "#%%\n"
    }
   }
  },
  {
   "cell_type": "markdown",
   "source": [
    "We can see that most tweets are either neutral or positive with small number of negative ones"
   ],
   "metadata": {
    "collapsed": false,
    "pycharm": {
     "name": "#%% md\n"
    }
   }
  },
  {
   "cell_type": "code",
   "execution_count": 7,
   "outputs": [
    {
     "data": {
      "text/plain": "<Figure size 360x360 with 1 Axes>",
      "image/png": "[encoded data removed]"
     },
     "metadata": {
      "needs_background": "light"
     },
     "output_type": "display_data"
    }
   ],
   "source": [
    "sns.displot(data=df, x='Compound', kde=True);"
   ],
   "metadata": {
    "collapsed": false,
    "pycharm": {
     "name": "#%%\n"
    }
   }
  },
  {
   "cell_type": "markdown",
   "source": [
    "### Text vectorization\n",
    "I'm going to use default sklearn TfidVectorizer."
   ],
   "metadata": {
    "collapsed": false,
    "pycharm": {
     "name": "#%% md\n"
    }
   }
  },
  {
   "cell_type": "code",
   "execution_count": 8,
   "outputs": [],
   "source": [
    "vectorizer = TfidfVectorizer()\n",
    "words = vectorizer.fit_transform(df['Preprocessed_text'])"
   ],
   "metadata": {
    "collapsed": false,
    "pycharm": {
     "name": "#%%\n"
    }
   }
  },
  {
   "cell_type": "markdown",
   "source": [
    "### Topic modeling\n",
    "Latent Dirichlet Allocation algorithm is really handy when It comes to topic modeling.\n",
    "It belongs to family of unsupervised learning algorithms, used among others to matrix factorization\n",
    "problems. LDA decompose document-words matrix to documents-topic matrix (probabilities of belonging document to each topic)\n",
    "and words-topic matrix (importance of each word in each topic)."
   ],
   "metadata": {
    "collapsed": false,
    "pycharm": {
     "name": "#%% md\n"
    }
   }
  },
  {
   "cell_type": "code",
   "execution_count": 9,
   "outputs": [],
   "source": [
    "lda = LatentDirichletAllocation(n_components=5, random_state=42)\n",
    "topic = lda.fit_transform(words)\n",
    "\n",
    "df['Topic'] = [np.argmax(prob) for prob in topic]"
   ],
   "metadata": {
    "collapsed": false,
    "pycharm": {
     "name": "#%%\n"
    }
   }
  },
  {
   "cell_type": "markdown",
   "source": [
    "I'm going also to extract most important words for each topic"
   ],
   "metadata": {
    "collapsed": false,
    "pycharm": {
     "name": "#%% md\n"
    }
   }
  },
  {
   "cell_type": "code",
   "execution_count": 10,
   "outputs": [],
   "source": [
    "top = TopWords(vectorizer, lda, 10)\n",
    "words_top = top.fit_predict(topic)"
   ],
   "metadata": {
    "collapsed": false,
    "pycharm": {
     "name": "#%%\n"
    }
   }
  },
  {
   "cell_type": "markdown",
   "source": [
    "### Topic model visualization\n",
    "Since, the output of topic modeling is high dimensionality data, It needs to be projected\n",
    "onto lower dimension plate. One of the most popular tools for visualizing that kind of data\n",
    "is t-SNE model. It converts similarities between data points to joint probabilities what result in\n",
    "reduces of dimensions."
   ],
   "metadata": {
    "collapsed": false
   }
  },
  {
   "cell_type": "code",
   "execution_count": 11,
   "outputs": [],
   "source": [
    "tsne = TSNE(n_components=2)\n",
    "projection = tsne.fit_transform(topic)\n",
    "\n",
    "df[['X-tsne', 'Y-tsne']] = projection"
   ],
   "metadata": {
    "collapsed": false,
    "pycharm": {
     "name": "#%%\n"
    }
   }
  },
  {
   "cell_type": "markdown",
   "source": [
    "There is very cool package called pyLDAvis to visualize topics distribution."
   ],
   "metadata": {
    "collapsed": false,
    "pycharm": {
     "name": "#%% md\n"
    }
   }
  },
  {
   "cell_type": "code",
   "execution_count": 12,
   "outputs": [
    {
     "data": {
      "text/plain": "PreparedData(topic_coordinates=          x     y  topics  cluster  Freq\ntopic                                   \n0     -0.11  0.08       1        1 33.58\n3      0.16  0.08       2        1 21.62\n4     -0.07  0.03       3        1 19.73\n2      0.02 -0.08       4        1 12.63\n1      0.00 -0.12       5        1 12.45, topic_info=          Term   Freq  Total Category  logprob  loglift\n120         11  92.00  92.00  Default    30.00    30.00\n1868   android 152.00 152.00  Default    29.00    29.00\n6528      game  69.00  69.00  Default    28.00    28.00\n11354   patent  50.00  50.00  Default    27.00    27.00\n8872    lenovo  52.00  52.00  Default    26.00    26.00\n...        ...    ...    ...      ...      ...      ...\n9331    making   9.66  21.44   Topic5    -6.21     1.29\n11448   people  11.37  33.77   Topic5    -6.04     0.99\n1819       amp  12.66  71.28   Topic5    -5.94     0.36\n13116       rt  17.09 213.33   Topic5    -5.64    -0.44\n10336     next   9.20  34.65   Topic5    -6.25     0.76\n\n[325 rows x 6 columns], token_table=       Topic  Freq     Term\nterm                       \n15         5  0.87       02\n20         5  0.86       03\n26         5  0.87       04\n32         5  0.99       05\n37         5  0.98       06\n...      ...   ...      ...\n16708      1  0.92   xpress\n16715      2  0.93  xseries\n16756      1  0.58     year\n16756      2  0.23     year\n16756      3  0.19     year\n\n[562 rows x 3 columns], R=30, lambda_step=0.01, plot_opts={'xlab': 'PC1', 'ylab': 'PC2'}, topic_order=[1, 4, 5, 3, 2])",
      "text/html": "\n<link rel=\"stylesheet\" type=\"text/css\" href=\"https://cdn.jsdelivr.net/gh/bmabey/pyLDAvis@3.3.1/pyLDAvis/js/ldavis.v1.0.0.css\">\n\n\n<div id=\"ldavis_el9594871399141309021444143268173\"></div>\n<script type=\"text/javascript\">\n\nvar ldavis_el9594871399141309021444143268173_data = {\"mdsDat\": {\"x\": [-0.10825485117809329, 0.1551901410494944, -0.06709857266895955, 0.01954234565571274, 0.0006209371418455886], \"y\": [0.0824087443867402, 0.08248354194326679, 0.03386387517305501, -0.07842193016393004, -0.12033423133913197], \"topics\": [1, 2, 3, 4, 5], \"cluster\": [1, 1, 1, 1, 1], \"Freq\": [33.57888017822081, 21.615156142948056, 19.727677654624305, 12.626372789152537, 12.451913235054285]}, \"tinfo\": {\"Term\": [\"11\", \"android\", \"game\", \"patent\", \"lenovo\", \"play\", \"update\", \"april\", \"fun\", \"princess\", \"ball\", \"puzzle\", \"india\", \"androidgames\", \"nougat\", \"2021\", \"launched\", \"81\", \"settle\", \"bluetooth\", \"c20\", \"fight\", \"ended\", \"snake\", \"3310\", \"like\", \"price\", \"x10\", \"new\", \"23\", \"designed\", \"struggle\", \"oppo\", \"mom\", \"filmed\", \"innovative\", \"csps\", \"wont\", \"htc\", \"verizon\", \"cloudnative\", \"1100\", \"web\", \"prince\", \"moto\", \"luck\", \"hydraulic\", \"forgot\", \"generation\", \"lab\", \"asus\", \"deploys\", \"hello\", \"xpress\", \"feeling\", \"dream\", \"provider\", \"sent\", \"communication\", \"bro\", \"lg\", \"cloud\", \"actually\", \"3310\", \"huawei\", \"iphone\", \"oh\", \"twitter\", \"buy\", \"old\", \"lumia\", \"samsung\", \"brand\", \"friend\", \"bought\", \"motorola\", \"anything\", \"apple\", \"flip\", \"take\", \"good\", \"first\", \"time\", \"brick\", \"use\", \"phone\", \"one\", \"back\", \"think\", \"last\", \"like\", \"still\", \"day\", \"nokia\", \"got\", \"year\", \"even\", \"rt\", \"im\", \"mobile\", \"snake\", \"5g\", \"smartphone\", \"81\", \"c20\", \"x10\", \"23\", \"g20\", \"flipkart\", \"53\", \"g10\", \"specification\", \"headset\", \"c10\", \"t2000\", \"11\", \"t3110\", \"midrange\", \"expected\", \"bluetooth\", \"nokiac20\", \"42\", \"anc\", \"hd\", \"snapdragon\", \"earphone\", \"480\", \"updated\", \"receiving\", \"xseries\", \"nokiax10\", \"unveiled\", \"neckband\", \"launched\", \"india\", \"update\", \"tws\", \"audio\", \"display\", \"android\", \"price\", \"six\", \"earbuds\", \"smartphones\", \"x20\", \"new\", \"hmd\", \"nokia\", \"launch\", \"global\", \"rt\", \"wireless\", \"get\", \"amp\", \"phone\", \"april\", \"5g\", \"party\", \"slumber\", \"ashnikko\", \"feat\", \"slice\", \"introduces\", \"outsold\", \"flopaj\", \"safeguard\", \"cricket\", \"designer\", \"overhauled\", \"cuz\", \"meme\", \"chart\", \"2000s\", \"nortje\", \"trial\", \"refreshed\", \"ux\", \"toji\", \"pakvssa\", \"rn\", \"naming\", \"reference\", \"sha\", \"tipped\", \"stan\", \"weird\", \"perfect\", \"safety\", \"3210\", \"brings\", \"princess\", \"808\", \"want\", \"really\", \"song\", \"like\", \"something\", \"dish\", \"damn\", \"love\", \"pick\", \"nokia\", \"talk\", \"right\", \"happy\", \"phone\", \"little\", \"rt\", \"know\", \"thats\", \"5g\", \"new\", \"nokias\", \"cant\", \"would\", \"mobile\", \"quality\", \"one\", \"year\", \"still\", \"make\", \"im\", \"look\", \"old\", \"patent\", \"settle\", \"fight\", \"agreement\", \"crosslicensing\", \"dispute\", \"announce\", \"36hour\", \"conclude\", \"mobily\", \"longevity\", \"saudi\", \"arabia\", \"cry\", \"multiyear\", \"lenovo\", \"devil\", \"reuters\", \"settled\", \"dante\", \"revamped\", \"simplicity\", \"john\", \"longlasting\", \"bh205\", \"litigation\", \"theatre\", \"longstanding\", \"mayer\", \"licensing\", \"optus\", \"knuckle\", \"bunch\", \"live\", \"expands\", \"iot\", \"nokia\", \"featuring\", \"thank\", \"network\", \"service\", \"new\", \"rt\", \"phone\", \"better\", \"5g\", \"series\", \"hmd\", \"get\", \"life\", \"uk\", \"lite\", \"launch\", \"nok\", \"deal\", \"ball\", \"puzzle\", \"androidgames\", \"nougat\", \"fun\", \"ended\", \"auto\", \"beyond\", \"li\", \"tanked\", \"premarket\", \"meat\", \"microwave\", \"08\", \"06\", \"09\", \"05\", \"03\", \"07\", \"04\", \"02\", \"connecting\", \"transport\", \"fridaylivestream\", \"ease\", \"xeon\", \"triplethreat\", \"scalable\", \"native\", \"gambit\", \"play\", \"game\", \"2021\", \"stock\", \"april\", \"portfolio\", \"move\", \"snake\", \"android\", \"nokia\", \"biggest\", \"making\", \"people\", \"amp\", \"rt\", \"next\"], \"Freq\": [92.0, 152.0, 69.0, 50.0, 52.0, 51.0, 82.0, 65.0, 40.0, 113.0, 37.0, 36.0, 57.0, 35.0, 35.0, 53.0, 55.0, 45.0, 30.0, 42.0, 39.0, 27.0, 26.0, 60.0, 115.0, 119.0, 56.0, 34.0, 148.0, 32.0, 17.457306535964776, 14.509162773701442, 11.038341872408662, 10.822968837686394, 10.799869063173949, 10.786061533893799, 10.636147520108965, 9.850927386659489, 14.032926551409288, 8.37351557804469, 7.8315608044706355, 18.187743968518845, 7.626294352281207, 7.5095969937730604, 7.325014308001428, 6.796488695942092, 6.691242026726717, 6.6948563932685765, 6.6859892739960864, 6.672826289407965, 6.406093417164603, 6.230578544528139, 6.000167435590938, 6.001046710951513, 5.934699502665243, 5.972434340611854, 5.8258602853965105, 5.77741988210758, 5.783550718915093, 12.205439008440914, 33.931628022311386, 17.36389684839529, 24.822470965520644, 98.39598457794393, 17.657804457896383, 49.72638041569805, 14.290818820009674, 22.60249876589373, 34.01253015457086, 59.955569055852735, 19.355559307984674, 45.59983653778781, 32.659738436490144, 11.161080271557406, 16.36497682424825, 17.750019723850986, 11.923720569373272, 32.737231031509836, 18.6028213961074, 30.37787577310201, 40.94283933187432, 43.61780345631162, 44.741108958891196, 29.578741415204643, 36.314031618395, 142.7063775424073, 51.170561885646435, 37.5402031972604, 29.89147415627699, 26.979736113222824, 68.07442179067048, 42.84486255924605, 32.71175730800638, 212.8112652367725, 32.930659605553984, 42.71339835001822, 27.839899141612836, 77.82254028834315, 31.49755886381864, 41.92186570303871, 33.95633301647056, 42.13598154547105, 33.71731808612038, 44.64676690069082, 39.266196438888684, 34.28015693194544, 32.02197737508275, 31.17420416356995, 26.40543550752234, 25.895477515446256, 25.435151873152392, 25.073758240460123, 22.334173422314137, 21.978310924109824, 21.93213190636849, 89.79736227545557, 21.003640351775207, 17.301754992375756, 19.410190251030382, 41.284862397320566, 16.531752404436098, 16.499866357201604, 16.357058839878455, 15.999654413062625, 15.662924406230182, 31.110087903880107, 13.947983875290769, 12.845778425374087, 12.292606636589811, 12.364551900448506, 11.453059733413834, 11.29387295420978, 11.232231065455721, 52.2822009229509, 53.928608279623, 73.5201784494249, 19.94038581836459, 18.73053418242588, 18.44700934398575, 106.90313733702259, 44.31522901197846, 35.30000751151992, 30.5122438545356, 47.63623082436221, 42.109364512424804, 77.78572036800013, 53.08803919562799, 200.24236101340057, 52.36995197585108, 34.80915749201451, 61.434234060645046, 26.694164266848738, 35.43071822358553, 31.007357393247354, 42.40185975655247, 29.530486612108454, 26.802970721921852, 21.458602804429145, 19.18064809788073, 17.86640182029822, 11.534008938718355, 9.383039813924269, 9.15032886929092, 7.464186662910176, 6.1784321142911365, 5.876829020056793, 5.326710875667717, 4.877755197857856, 4.830177236583225, 4.805832629658653, 4.462763727139238, 5.625778139000935, 4.311657765745843, 4.266245964870447, 8.089325737264799, 4.223995375615559, 4.013827366345045, 3.957322620058373, 3.6332025784277873, 4.917445092015775, 3.7529090836110406, 3.4643838909903644, 3.4462765287546975, 4.1763821493774085, 8.45254219156988, 5.235104347129087, 3.2914122394186553, 7.61407011444758, 17.408350790414936, 7.724675938912555, 78.85295964148133, 7.56805843144578, 25.55493518601604, 17.61508108615611, 13.788979900074597, 45.455191480237026, 14.914176340573405, 9.81155181072456, 7.368802815385492, 16.745017557763266, 9.974867776281611, 110.52954179986678, 8.650567916567482, 11.835123081198638, 8.14343521472612, 50.43792121424865, 11.780766763606284, 38.14748322587725, 17.140895285369247, 11.025845024076302, 22.783142504748604, 24.377265684104522, 14.158393082353426, 11.200162064296727, 13.027162552289637, 17.812025104751104, 11.672514462136204, 14.882285882186737, 13.900426097288571, 13.36718535960228, 12.044389180870931, 12.222686881686835, 11.65117786695777, 11.726101461780184, 49.80348513461867, 30.259020479658673, 26.820211015198723, 15.73377210801392, 10.6450448841332, 9.286922546556932, 8.973206814807007, 8.077683085946418, 7.580319400225834, 7.441827903259742, 7.243590842494048, 7.2373678967120405, 7.120993960183805, 6.7322985692460255, 6.573846395384523, 48.33828906333394, 5.937601458555335, 5.729026339600039, 5.71999131901041, 5.5651025007579085, 5.477204732722074, 5.450044201532851, 5.509844381898484, 5.354856193463392, 5.232625304330877, 5.181010446649449, 5.035928351503543, 4.377081296705302, 4.358203683339705, 4.326786498295796, 7.757246096089452, 4.744091076170786, 9.11741490381056, 17.3770560806538, 6.717550574126659, 8.772606950212696, 52.767355588563504, 6.7614972440294885, 9.165511423484473, 11.94790110884891, 10.470876170964376, 18.410543539407154, 18.841347914846306, 19.842070586980423, 10.210737011079257, 14.614080835191286, 10.046094684823446, 12.533414532065885, 12.210305485767874, 8.849941386523788, 8.045151179569677, 8.436020431879001, 9.296012862021247, 8.243228268941401, 7.867546332782297, 37.163207737678604, 35.63569679401441, 35.08696243172816, 35.08696243172816, 39.89623157119365, 25.981002428866056, 11.272082236386517, 10.860246869177438, 10.77794937320193, 10.247694501770061, 9.53271267074972, 9.503064697147517, 8.889892477452461, 7.036603403910012, 6.613642017258684, 6.564839037870004, 6.5165983117793695, 6.453743932854478, 6.43665819103073, 6.338641223141753, 6.324580088786732, 11.970428446241387, 5.674452297506684, 5.448680293100284, 5.209553424516565, 5.1277551650711946, 5.001829397920717, 4.599972059818731, 4.567541609765923, 4.202620762256489, 43.671896106820505, 51.993989548318595, 38.6412334689175, 19.155296761029923, 35.94361294007785, 11.100395865888084, 9.929660359883565, 23.078448879194365, 27.970942302376994, 48.456803163726605, 9.21485626713183, 9.662646637974548, 11.371378660071967, 12.660151212191042, 17.08808747711213, 9.202276707200879], \"Total\": [92.0, 152.0, 69.0, 50.0, 52.0, 51.0, 82.0, 65.0, 40.0, 113.0, 37.0, 36.0, 57.0, 35.0, 35.0, 53.0, 55.0, 45.0, 30.0, 42.0, 39.0, 27.0, 26.0, 60.0, 115.0, 119.0, 56.0, 34.0, 148.0, 32.0, 18.001213903595087, 15.04953274428553, 11.579845160426254, 11.361938065403752, 11.339021255982408, 11.329446372480803, 11.174330235621351, 10.392230399273283, 14.928907252417869, 8.91403769983422, 8.37079629153681, 19.442779932740685, 8.166516594300754, 8.048058193708997, 7.8641440085189664, 7.336305569922164, 7.229100051439744, 7.237717572833627, 7.228964803593938, 7.216912035406173, 6.947115060899724, 6.769002356995528, 6.538538518820334, 6.540872614799591, 6.4738165560182575, 6.52306430316373, 6.368129624338244, 6.317571351166823, 6.327155430496166, 13.353465475093616, 37.96047515028067, 19.276913904811952, 27.860320407704666, 115.62584072943551, 20.153247314781208, 59.93258411039358, 16.18993121330572, 26.253392512516843, 40.73494195049208, 75.30306847473261, 22.42302974620439, 56.59416360888858, 39.860311125306566, 12.546041601674759, 19.038367248240775, 20.949918791894962, 13.506221222874364, 42.110722886819545, 22.33717606209629, 39.05363961877719, 54.85483089196144, 59.533072027453834, 61.883026555595116, 38.066151342111034, 48.470863845589356, 260.69563136395743, 77.22138686190732, 52.97681765312809, 40.29108950312447, 36.046244625224745, 119.51665610479391, 66.28307261081672, 47.05489098712313, 624.80732680233, 49.84725292845372, 74.26944973701049, 39.46427710333418, 213.33369296682386, 49.01172110314496, 88.63018768849984, 60.394068581838155, 111.62218077201287, 68.09951429531627, 45.19330842258106, 39.81144374583393, 34.82571211129765, 32.571211238350564, 31.719337147331753, 26.951137842654102, 26.444710208856357, 25.98051831561992, 25.61976403875969, 22.87913388232773, 22.523866611478688, 22.476749598099854, 92.05162556490696, 21.5480867227356, 17.847952772160458, 20.025787782226036, 42.636235901784715, 17.077132412287025, 17.046818174124308, 16.9034903659002, 16.55005097220349, 16.21003211219924, 32.21116907626333, 14.49340218044563, 13.392605709316188, 12.837013386745141, 12.912260690087978, 11.997685889796038, 11.840018684442283, 11.776648591605678, 55.334355294426686, 57.396874751955814, 82.5348956413947, 21.484224334099267, 20.24787116601479, 20.227391450341546, 152.427980730005, 56.206940333478876, 44.74904325271817, 38.13286805107575, 68.32883278861138, 60.12570484727432, 148.0709129904867, 88.79962018157582, 624.80732680233, 89.93469187098293, 54.09106849756468, 213.33369296682386, 38.59224894254706, 87.67519246582732, 71.28375299388844, 260.69563136395743, 65.89291037003441, 111.62218077201287, 22.066977402711007, 19.72830679458039, 18.413909460921627, 12.081610566011442, 9.930838282952172, 9.701339117002844, 8.053175189433754, 6.726966648551566, 6.424173149500664, 5.87960996335137, 5.429234839876021, 5.381379013547521, 5.360360015387381, 5.013936404649577, 6.333413028006845, 4.860791472487654, 4.815890959838361, 9.155227583496565, 4.781505877325609, 4.561515839324836, 4.506622432741794, 4.181953037430973, 5.670010934168967, 4.331058022684996, 4.015733158982954, 3.9969763258599387, 4.846957758270288, 9.812664076254064, 6.092550355285343, 3.840795484806304, 8.926974115751987, 21.60907394485484, 9.287508556390865, 113.65457722748454, 9.49616797797597, 43.50344324510947, 31.53688782913707, 23.52462204649966, 119.51665610479391, 26.479726655494034, 14.984672359098578, 10.235054179382358, 33.97581772075066, 15.899795329659263, 624.80732680233, 13.089540745917182, 21.233115148844515, 11.972392988638374, 260.69563136395743, 22.76956851093109, 213.33369296682386, 48.42068562405793, 21.144656435292326, 111.62218077201287, 148.0709129904867, 41.08521907147423, 24.024845441925518, 36.61734667684265, 88.63018768849984, 28.1521436798911, 77.22138686190732, 74.26944973701049, 66.28307261081672, 41.80654209086768, 49.01172110314496, 44.08676146583783, 75.30306847473261, 50.35948252407213, 30.81304317260769, 27.37815311811502, 16.293497300682404, 11.198791126552745, 9.841155131584612, 9.53530687727432, 8.633089674821973, 8.13404479667848, 7.995855207953388, 7.797951130156142, 7.793080999259414, 7.675197993706088, 7.2918258278290375, 7.127740357954106, 52.42094141665902, 6.494115460083413, 6.282812686086267, 6.274998406396135, 6.119278477996396, 6.032605105007817, 6.003884471041465, 6.069763665942655, 5.91012695238452, 5.791559057288193, 5.735502334554452, 5.601406243797832, 4.932610608458452, 4.912554624176464, 4.921720022757267, 9.193161888787891, 5.431169088610831, 11.860277561794693, 26.673346740994187, 8.651809565772053, 13.300240840717791, 624.80732680233, 9.803109243363043, 22.04090151053514, 43.56039801577729, 31.317558224602937, 148.0709129904867, 213.33369296682386, 260.69563136395743, 35.00717274655345, 111.62218077201287, 34.223867724106775, 88.79962018157582, 87.67519246582732, 29.154601701964733, 17.535854630294914, 29.70066762786925, 89.93469187098293, 28.97629893451408, 16.807806176367734, 37.717663207719454, 36.18952606944448, 35.6406092627844, 35.6406092627844, 40.58337627382991, 26.538937583449606, 11.83381207886791, 11.418126599258084, 11.333683354098058, 10.804557201965721, 10.08679185458534, 10.056966471834953, 9.447822054147784, 7.594076693003876, 7.167848420161932, 7.12187500284594, 7.070558480014244, 7.01023142954498, 6.992621864621202, 6.892289913882194, 6.880246793831894, 13.036152494785535, 6.230912730615305, 6.002352166228162, 5.7661608876115285, 5.682661586901102, 5.555491231179715, 5.153731639009026, 5.126389172929799, 4.756287506636367, 51.90051408563728, 69.21745695025098, 53.24480324496681, 26.5875831984504, 65.89291037003441, 15.690162094272797, 15.409829282194963, 60.394068581838155, 152.427980730005, 624.80732680233, 17.477882890194817, 21.441313574615414, 33.77188740720936, 71.28375299388844, 213.33369296682386, 34.64727426530624], \"Category\": [\"Default\", \"Default\", \"Default\", \"Default\", \"Default\", \"Default\", \"Default\", \"Default\", \"Default\", \"Default\", \"Default\", \"Default\", \"Default\", \"Default\", \"Default\", \"Default\", \"Default\", \"Default\", \"Default\", \"Default\", \"Default\", \"Default\", \"Default\", \"Default\", \"Default\", \"Default\", \"Default\", \"Default\", \"Default\", \"Default\", \"Topic1\", \"Topic1\", \"Topic1\", \"Topic1\", \"Topic1\", \"Topic1\", \"Topic1\", \"Topic1\", \"Topic1\", \"Topic1\", \"Topic1\", \"Topic1\", \"Topic1\", \"Topic1\", \"Topic1\", \"Topic1\", \"Topic1\", \"Topic1\", \"Topic1\", \"Topic1\", \"Topic1\", \"Topic1\", \"Topic1\", \"Topic1\", \"Topic1\", \"Topic1\", \"Topic1\", \"Topic1\", \"Topic1\", \"Topic1\", \"Topic1\", \"Topic1\", \"Topic1\", \"Topic1\", \"Topic1\", \"Topic1\", \"Topic1\", \"Topic1\", \"Topic1\", \"Topic1\", \"Topic1\", \"Topic1\", \"Topic1\", \"Topic1\", \"Topic1\", \"Topic1\", \"Topic1\", \"Topic1\", \"Topic1\", \"Topic1\", \"Topic1\", \"Topic1\", \"Topic1\", \"Topic1\", \"Topic1\", \"Topic1\", \"Topic1\", \"Topic1\", \"Topic1\", \"Topic1\", \"Topic1\", \"Topic1\", \"Topic1\", \"Topic1\", \"Topic1\", \"Topic1\", \"Topic1\", \"Topic1\", \"Topic1\", \"Topic1\", \"Topic1\", \"Topic1\", \"Topic1\", \"Topic2\", \"Topic2\", \"Topic2\", \"Topic2\", \"Topic2\", \"Topic2\", \"Topic2\", \"Topic2\", \"Topic2\", \"Topic2\", \"Topic2\", \"Topic2\", \"Topic2\", \"Topic2\", \"Topic2\", \"Topic2\", \"Topic2\", \"Topic2\", \"Topic2\", \"Topic2\", \"Topic2\", \"Topic2\", \"Topic2\", \"Topic2\", \"Topic2\", \"Topic2\", \"Topic2\", \"Topic2\", \"Topic2\", \"Topic2\", \"Topic2\", \"Topic2\", \"Topic2\", \"Topic2\", \"Topic2\", \"Topic2\", \"Topic2\", \"Topic2\", \"Topic2\", \"Topic2\", \"Topic2\", \"Topic2\", \"Topic2\", \"Topic2\", \"Topic2\", \"Topic2\", \"Topic2\", \"Topic2\", \"Topic2\", \"Topic2\", \"Topic2\", \"Topic2\", \"Topic2\", \"Topic2\", \"Topic3\", \"Topic3\", \"Topic3\", \"Topic3\", \"Topic3\", \"Topic3\", \"Topic3\", \"Topic3\", \"Topic3\", \"Topic3\", \"Topic3\", \"Topic3\", \"Topic3\", \"Topic3\", \"Topic3\", \"Topic3\", \"Topic3\", \"Topic3\", \"Topic3\", \"Topic3\", \"Topic3\", \"Topic3\", \"Topic3\", \"Topic3\", \"Topic3\", \"Topic3\", \"Topic3\", \"Topic3\", \"Topic3\", \"Topic3\", \"Topic3\", \"Topic3\", \"Topic3\", \"Topic3\", \"Topic3\", \"Topic3\", \"Topic3\", \"Topic3\", \"Topic3\", \"Topic3\", \"Topic3\", \"Topic3\", \"Topic3\", \"Topic3\", \"Topic3\", \"Topic3\", \"Topic3\", \"Topic3\", \"Topic3\", \"Topic3\", \"Topic3\", \"Topic3\", \"Topic3\", \"Topic3\", \"Topic3\", \"Topic3\", \"Topic3\", \"Topic3\", \"Topic3\", \"Topic3\", \"Topic3\", \"Topic3\", \"Topic3\", \"Topic3\", \"Topic3\", \"Topic3\", \"Topic3\", \"Topic4\", \"Topic4\", \"Topic4\", \"Topic4\", \"Topic4\", \"Topic4\", \"Topic4\", \"Topic4\", \"Topic4\", \"Topic4\", \"Topic4\", \"Topic4\", \"Topic4\", \"Topic4\", \"Topic4\", \"Topic4\", \"Topic4\", \"Topic4\", \"Topic4\", \"Topic4\", \"Topic4\", \"Topic4\", \"Topic4\", \"Topic4\", \"Topic4\", \"Topic4\", \"Topic4\", \"Topic4\", \"Topic4\", \"Topic4\", \"Topic4\", \"Topic4\", \"Topic4\", \"Topic4\", \"Topic4\", \"Topic4\", \"Topic4\", \"Topic4\", \"Topic4\", \"Topic4\", \"Topic4\", \"Topic4\", \"Topic4\", \"Topic4\", \"Topic4\", \"Topic4\", \"Topic4\", \"Topic4\", \"Topic4\", \"Topic4\", \"Topic4\", \"Topic4\", \"Topic4\", \"Topic4\", \"Topic4\", \"Topic5\", \"Topic5\", \"Topic5\", \"Topic5\", \"Topic5\", \"Topic5\", \"Topic5\", \"Topic5\", \"Topic5\", \"Topic5\", \"Topic5\", \"Topic5\", \"Topic5\", \"Topic5\", \"Topic5\", \"Topic5\", \"Topic5\", \"Topic5\", \"Topic5\", \"Topic5\", \"Topic5\", \"Topic5\", \"Topic5\", \"Topic5\", \"Topic5\", \"Topic5\", \"Topic5\", \"Topic5\", \"Topic5\", \"Topic5\", \"Topic5\", \"Topic5\", \"Topic5\", \"Topic5\", \"Topic5\", \"Topic5\", \"Topic5\", \"Topic5\", \"Topic5\", \"Topic5\", \"Topic5\", \"Topic5\", \"Topic5\", \"Topic5\", \"Topic5\", \"Topic5\"], \"logprob\": [30.0, 29.0, 28.0, 27.0, 26.0, 25.0, 24.0, 23.0, 22.0, 21.0, 20.0, 19.0, 18.0, 17.0, 16.0, 15.0, 14.0, 13.0, 12.0, 11.0, 10.0, 9.0, 8.0, 7.0, 6.0, 5.0, 4.0, 3.0, 2.0, 1.0, -6.6058, -6.7908, -7.0642, -7.0839, -7.0861, -7.0873, -7.1013, -7.178, -6.8242, -7.3405, -7.4074, -6.5648, -7.434, -7.4494, -7.4743, -7.5492, -7.5648, -7.5642, -7.5656, -7.5675, -7.6083, -7.6361, -7.6738, -7.6737, -7.6848, -7.6784, -7.7033, -7.7116, -7.7106, -6.9637, -5.9412, -6.6112, -6.2538, -4.8766, -6.5944, -5.5591, -6.806, -6.3475, -5.9389, -5.372, -6.5026, -5.6457, -5.9794, -7.0532, -6.6704, -6.5892, -6.9871, -5.9771, -6.5423, -6.0519, -5.7534, -5.6901, -5.6647, -6.0785, -5.8734, -4.5048, -5.5304, -5.8402, -6.068, -6.1705, -5.245, -5.708, -5.9779, -4.1052, -5.9712, -5.7111, -6.1391, -5.1112, -6.0157, -5.7298, -5.9405, -5.7247, -5.9476, -5.2263, -5.3547, -5.4905, -5.5587, -5.5855, -5.7515, -5.771, -5.789, -5.8033, -5.919, -5.935, -5.9371, -4.5275, -5.9804, -6.1743, -6.0593, -5.3046, -6.2198, -6.2217, -6.2304, -6.2525, -6.2738, -5.5876, -6.3898, -6.4721, -6.5161, -6.5103, -6.5868, -6.6008, -6.6063, -5.0684, -5.0374, -4.7275, -6.0323, -6.0949, -6.1102, -4.3532, -5.2338, -5.4612, -5.607, -5.1615, -5.2848, -4.6711, -5.0531, -3.7256, -5.0668, -5.4752, -4.9071, -5.7406, -5.4575, -5.5909, -5.2779, -5.6397, -5.7366, -5.8676, -5.9798, -6.0508, -6.4884, -6.6948, -6.7199, -6.9236, -7.1126, -7.1627, -7.261, -7.349, -7.3588, -7.3639, -7.4379, -7.2064, -7.4724, -7.483, -6.8432, -7.4929, -7.544, -7.5581, -7.6436, -7.3409, -7.6112, -7.6912, -7.6964, -7.5043, -6.7992, -7.2783, -7.7424, -6.9037, -6.0768, -6.8893, -4.5661, -6.9098, -5.6929, -6.065, -6.3098, -5.117, -6.2314, -6.6502, -6.9365, -6.1156, -6.6336, -4.2284, -6.7761, -6.4626, -6.8365, -5.013, -6.4672, -5.2923, -6.0922, -6.5335, -5.8077, -5.7401, -6.2834, -6.5178, -6.3667, -6.0538, -6.4765, -6.2335, -6.3018, -6.3409, -6.4451, -6.4304, -6.4783, -6.4719, -4.5794, -5.0777, -5.1983, -5.7317, -6.1224, -6.2589, -6.2932, -6.3984, -6.4619, -6.4804, -6.5074, -6.5082, -6.5244, -6.5806, -6.6044, -4.6093, -6.7062, -6.7419, -6.7435, -6.771, -6.7869, -6.7919, -6.7809, -6.8095, -6.8326, -6.8425, -6.8709, -7.0111, -7.0154, -7.0227, -6.4389, -6.9306, -6.2773, -5.6323, -6.5828, -6.3158, -4.5216, -6.5762, -6.272, -6.0069, -6.1389, -5.5746, -5.5514, -5.4997, -6.164, -5.8055, -6.1803, -5.9591, -5.9852, -6.3071, -6.4024, -6.355, -6.2579, -6.3781, -6.4247, -4.8582, -4.9002, -4.9157, -4.9157, -4.7873, -5.2162, -6.0512, -6.0885, -6.0961, -6.1465, -6.2188, -6.222, -6.2887, -6.5224, -6.5844, -6.5918, -6.5992, -6.6089, -6.6116, -6.6269, -6.6291, -5.9911, -6.7376, -6.7782, -6.8231, -6.8389, -6.8638, -6.9475, -6.9546, -7.0379, -4.6969, -4.5224, -4.8192, -5.521, -4.8916, -6.0666, -6.178, -5.3347, -5.1424, -4.5929, -6.2527, -6.2053, -6.0425, -5.9351, -5.6352, -6.2541], \"loglift\": [30.0, 29.0, 28.0, 27.0, 26.0, 25.0, 24.0, 23.0, 22.0, 21.0, 20.0, 19.0, 18.0, 17.0, 16.0, 15.0, 14.0, 13.0, 12.0, 11.0, 10.0, 9.0, 8.0, 7.0, 6.0, 5.0, 4.0, 3.0, 2.0, 1.0, 1.0606, 1.0547, 1.0434, 1.0427, 1.0426, 1.0421, 1.0419, 1.0378, 1.0294, 1.0287, 1.0247, 1.0245, 1.0228, 1.022, 1.0203, 1.0148, 1.014, 1.0133, 1.0132, 1.0129, 1.0102, 1.0084, 1.0053, 1.0051, 1.0043, 1.0031, 1.0023, 1.0019, 1.0014, 1.0014, 0.9791, 0.9868, 0.9758, 0.9299, 0.9591, 0.9046, 0.9665, 0.9415, 0.9109, 0.8634, 0.9442, 0.8753, 0.892, 0.9743, 0.94, 0.9255, 0.9667, 0.8395, 0.9083, 0.8401, 0.7988, 0.7802, 0.7669, 0.839, 0.8025, 0.4887, 0.6798, 0.7468, 0.7927, 0.8016, 0.5284, 0.6549, 0.7277, 0.0142, 0.6767, 0.5381, 0.7423, 0.0828, 0.6491, 0.3426, 0.5155, 0.1171, 0.3883, 1.5196, 1.518, 1.516, 1.5148, 1.5144, 1.5113, 1.5108, 1.5106, 1.5102, 1.5077, 1.5073, 1.5072, 1.507, 1.5062, 1.5007, 1.5006, 1.4996, 1.4993, 1.4992, 1.4989, 1.498, 1.4974, 1.497, 1.4934, 1.4901, 1.4884, 1.4884, 1.4853, 1.4846, 1.4844, 1.475, 1.4694, 1.4161, 1.4572, 1.4539, 1.4396, 1.177, 1.2941, 1.2946, 1.3088, 1.171, 1.1756, 0.888, 1.0173, 0.3939, 0.991, 1.091, 0.2869, 1.1632, 0.6257, 0.6993, -0.2844, 0.7292, 0.1052, 1.5952, 1.595, 1.593, 1.5768, 1.5664, 1.5647, 1.5472, 1.5381, 1.5341, 1.5244, 1.516, 1.5151, 1.5139, 1.5067, 1.5047, 1.5033, 1.502, 1.4994, 1.4992, 1.4952, 1.4932, 1.4825, 1.4807, 1.4799, 1.4755, 1.4749, 1.4742, 1.4739, 1.4715, 1.4688, 1.4641, 1.407, 1.4389, 1.2576, 1.3962, 1.0911, 1.0407, 1.089, 0.6564, 1.0491, 1.1997, 1.2946, 0.9156, 1.1569, -0.109, 1.209, 1.0387, 1.2378, -0.0195, 0.9642, -0.0983, 0.5847, 0.972, 0.034, -0.1809, 0.5578, 0.86, 0.5897, 0.0185, 0.7428, -0.0234, -0.0526, 0.022, 0.3787, 0.2344, 0.2924, -0.2366, 2.0583, 2.0512, 2.0488, 2.0344, 2.0187, 2.0114, 2.0086, 2.0029, 1.9989, 1.9976, 1.9956, 1.9954, 1.9944, 1.9895, 1.9885, 1.9883, 1.9798, 1.9771, 1.9768, 1.9745, 1.9728, 1.9726, 1.9726, 1.9707, 1.9679, 1.9677, 1.963, 1.9499, 1.9496, 1.9405, 1.8995, 1.9341, 1.8064, 1.6409, 1.8163, 1.6532, -0.4022, 1.6979, 1.1919, 0.7758, 0.9738, -0.0154, -0.3574, -0.5062, 0.8373, 0.0362, 0.8436, 0.1114, 0.098, 0.8772, 1.2902, 0.8107, -0.2001, 0.8123, 1.3103, 2.0685, 2.0679, 2.0676, 2.0676, 2.0662, 2.062, 2.0347, 2.0332, 2.033, 2.0304, 2.0268, 2.0266, 2.0224, 2.0071, 2.0028, 2.0019, 2.0017, 2.0006, 2.0004, 1.9996, 1.9991, 1.998, 1.9897, 1.9865, 1.9818, 1.9805, 1.9783, 1.9696, 1.9679, 1.9595, 1.9107, 1.7972, 1.7627, 1.7554, 1.4772, 1.7372, 1.6438, 1.1213, 0.3878, -0.4735, 1.4432, 1.2862, 0.9948, 0.3551, -0.4412, 0.7575]}, \"token.table\": {\"Topic\": [5, 5, 5, 5, 5, 5, 5, 5, 1, 2, 1, 4, 3, 1, 2, 3, 4, 5, 2, 2, 3, 4, 1, 2, 3, 5, 4, 2, 2, 2, 1, 2, 3, 4, 5, 2, 3, 2, 1, 2, 3, 4, 1, 2, 3, 4, 5, 2, 1, 2, 3, 4, 5, 5, 4, 1, 3, 1, 3, 4, 2, 5, 4, 3, 1, 1, 2, 5, 1, 2, 3, 4, 5, 5, 1, 2, 3, 4, 5, 5, 4, 1, 3, 4, 5, 1, 2, 1, 3, 1, 2, 3, 1, 3, 5, 2, 3, 4, 1, 5, 1, 3, 4, 1, 2, 3, 5, 2, 2, 1, 3, 3, 1, 4, 1, 1, 4, 4, 5, 3, 4, 4, 1, 3, 1, 3, 5, 4, 1, 2, 3, 5, 1, 2, 3, 4, 5, 1, 1, 3, 4, 1, 3, 1, 2, 4, 1, 2, 4, 2, 5, 5, 5, 1, 2, 3, 5, 4, 5, 2, 3, 3, 4, 1, 4, 1, 1, 2, 3, 4, 5, 1, 2, 3, 2, 3, 1, 5, 1, 3, 5, 2, 2, 5, 1, 3, 4, 5, 1, 1, 2, 3, 4, 5, 1, 2, 3, 4, 5, 1, 2, 3, 4, 5, 1, 2, 3, 4, 5, 1, 3, 2, 2, 1, 1, 2, 3, 4, 1, 1, 3, 1, 1, 2, 3, 4, 5, 1, 2, 5, 1, 3, 1, 4, 5, 1, 2, 3, 4, 1, 2, 3, 4, 4, 1, 1, 2, 3, 5, 1, 2, 3, 4, 5, 2, 3, 4, 1, 4, 1, 3, 5, 4, 1, 2, 3, 4, 5, 1, 2, 3, 4, 5, 2, 4, 4, 1, 2, 3, 5, 1, 3, 4, 4, 4, 4, 1, 2, 3, 4, 1, 3, 5, 1, 1, 2, 3, 1, 2, 3, 4, 1, 2, 5, 4, 5, 3, 5, 2, 1, 2, 3, 4, 5, 4, 1, 1, 1, 3, 1, 3, 5, 4, 3, 5, 2, 1, 3, 4, 5, 1, 2, 3, 4, 5, 1, 2, 3, 4, 5, 1, 2, 3, 4, 5, 1, 2, 3, 4, 5, 2, 1, 2, 3, 4, 5, 2, 3, 5, 1, 3, 5, 1, 3, 4, 5, 1, 2, 3, 4, 5, 1, 1, 4, 3, 3, 3, 3, 4, 1, 3, 4, 5, 3, 1, 2, 3, 4, 5, 1, 2, 3, 4, 1, 5, 3, 5, 5, 1, 2, 3, 1, 1, 2, 3, 4, 5, 1, 5, 1, 2, 3, 4, 1, 3, 2, 3, 3, 4, 4, 1, 2, 3, 3, 1, 2, 3, 4, 5, 3, 1, 3, 1, 2, 3, 4, 5, 4, 5, 1, 1, 2, 3, 4, 1, 3, 4, 4, 4, 3, 4, 2, 3, 4, 3, 3, 1, 2, 3, 4, 1, 2, 3, 4, 5, 1, 3, 5, 2, 1, 3, 4, 1, 2, 3, 2, 3, 5, 1, 2, 3, 4, 5, 1, 2, 3, 4, 5, 1, 2, 2, 1, 2, 3, 4, 1, 3, 4, 5, 5, 1, 2, 3, 4, 1, 3, 4, 1, 2, 3, 1, 2, 3, 4, 5, 3, 3, 5, 3, 4, 5, 1, 3, 2, 3, 1, 2, 4, 2, 1, 2, 3, 4, 2, 1, 3, 5, 3, 1, 1, 3, 4, 5, 1, 3, 1, 2, 4, 1, 1, 3, 5, 2, 1, 2, 3, 5, 1, 2, 1, 2, 3], \"Freq\": [0.8720617413577328, 0.8558918575373549, 0.8705379598027388, 0.9900208052569418, 0.9765831515507774, 0.8580472555446879, 0.921771043799021, 0.9828872308490056, 0.021726938418809027, 0.9777122288464062, 0.9257935368434062, 0.05143297426907812, 0.8229112527538404, 0.11268705365283091, 0.11268705365283091, 0.01878117560880515, 0.0375623512176103, 0.7324658487434009, 0.9824626958398772, 0.09255371170018158, 0.7867065494515434, 0.09255371170018158, 0.8475614048015445, 0.008648585763281065, 0.08648585763281066, 0.04324292881640533, 0.9266670799599881, 0.9385915797639414, 0.9659567729990047, 0.9831833964016206, 0.3762693015807007, 0.24188740815902188, 0.2060522365799075, 0.1343818934216788, 0.04479396447389294, 0.2106112702132596, 0.8424450808530384, 0.9957226317495164, 0.897333542262003, 0.03589334169048012, 0.07178668338096024, 0.9819868444897885, 0.1683413049398343, 0.43488170442790525, 0.1122275366265562, 0.09819909454823667, 0.1823697470181538, 0.9465500706455968, 0.07216522811178776, 0.7019708552692082, 0.03280237641444898, 0.013120950565779593, 0.1836933079209143, 0.9820258610603124, 0.9438605506708834, 0.8884794497277001, 0.074039954143975, 0.7836483854407743, 0.18997536616746044, 0.023746920770932555, 0.45528418507437574, 0.5463410220892508, 0.9120285894566144, 0.9775219128887305, 0.8636678603136505, 0.0493879080818362, 0.9383702535548878, 0.9295398580515842, 0.7172948788432224, 0.0566285430665702, 0.15100944817752052, 0.0566285430665702, 0.018876181022190065, 0.9809727552906148, 0.5141803404210112, 0.02856557446783396, 0.1428278723391698, 0.2856557446783396, 0.02856557446783396, 0.9633804551365499, 0.8633253931353627, 0.0572151676654731, 0.2860758383273655, 0.17164550299641929, 0.5149365089892579, 0.02345422804920124, 0.9616233500172509, 0.8404082026245432, 0.1050510253280679, 0.8278911796814581, 0.10035044602199492, 0.0752628345164962, 0.788101737167535, 0.1838904053390915, 0.0262700579055845, 0.10767150241943907, 0.8613720193555126, 0.10767150241943907, 0.898643129184851, 0.07488692743207091, 0.08431505879940641, 0.16863011759881283, 0.7588355291946577, 0.8346642555995905, 0.0245489486941056, 0.12274474347052801, 0.0245489486941056, 0.9767417104480759, 0.9796178266979116, 0.49948292191961075, 0.45785934509297654, 0.9473565001157407, 0.8818838992561158, 0.10375104697130773, 0.9557035819983222, 0.9482934418017749, 0.9835205239177909, 0.07670975008922305, 0.9205170010706767, 0.8503965452072278, 0.9822488763022462, 0.9599790457534939, 0.9843990438849191, 0.9327731692735308, 0.09770343981318776, 0.6839240786923143, 0.09770343981318776, 0.9805077545620295, 0.7013086059221911, 0.10625887968518048, 0.14876243155925267, 0.06375532781110829, 0.2379846577255345, 0.11899232886276725, 0.11899232886276725, 0.475969315451069, 0.11899232886276725, 0.8863935456898179, 0.9443807562669354, 0.9209400859356043, 0.9239133546176486, 0.3336742959857937, 0.6673485919715874, 0.049437912073586464, 0.8898824173245564, 0.9145267887420071, 0.9198131002771135, 0.8129469820753615, 0.1835686733718558, 0.962399095996927, 0.031045132128933128, 0.8671280766276209, 0.9796925712736254, 0.7095024172540687, 0.02533937204478817, 0.22805434840309352, 0.02533937204478817, 0.8090792968552062, 0.2311655133872018, 0.9487766577084934, 0.9932450590452706, 0.3060253563971122, 0.7140591649265952, 0.9268103209415498, 0.9861877783909094, 0.970101365159401, 0.7390849909393099, 0.016797386157711588, 0.1511764754194043, 0.05039215847313477, 0.033594772315423176, 0.850599912324678, 0.044768416438140946, 0.08953683287628189, 0.9647088056835661, 0.8919324732034913, 0.9671557268653468, 0.8330067716006684, 0.8767705663060786, 0.07970641511873443, 0.9856252404951803, 0.9622594782864506, 0.9773218102260292, 0.8409920540797561, 0.20226111470784447, 0.028894444958263498, 0.014447222479131749, 0.7512555689148509, 0.9683267508122179, 0.3079548415080314, 0.399200720473374, 0.11405734870667829, 0.13686881844801393, 0.034217204612003484, 0.05546202142660702, 0.6470569166437485, 0.16638606427982106, 0.11092404285321404, 0.01848734047553567, 0.7474273338067703, 0.05468980491269051, 0.16406941473807152, 0.01822993497089684, 0.01822993497089684, 0.6620224397794848, 0.08024514421569513, 0.18055157448531403, 0.040122572107847566, 0.040122572107847566, 0.2505764722931294, 0.6682039261150117, 0.9667643940718175, 0.9615748617561617, 0.9176362550636934, 0.14639702257079298, 0.5968493997116945, 0.11261309428522538, 0.14639702257079298, 0.9377779473934755, 0.8931563096929829, 0.09923958996588698, 0.9683086345728309, 0.632501762889751, 0.08161313069545174, 0.24483939208635525, 0.020403282673862936, 0.020403282673862936, 0.03484510278030163, 0.940817775068144, 0.017422551390150816, 0.9709212293655384, 0.927706978537256, 0.22555982526389312, 0.6766794757916794, 0.07518660842129771, 0.8342707183775335, 0.03337082873510134, 0.13348331494040536, 0.9885063620624807, 0.433698939396391, 0.16521864357957752, 0.35108961760660223, 0.04130466089489438, 0.9206121036601506, 0.9699439269396658, 0.7490378063157712, 0.055484281949316386, 0.13871070487329096, 0.08322642292397457, 0.25574113305458335, 0.5781973442973188, 0.04447671879210145, 0.10007261728222826, 0.011119179698025363, 0.9397416798897352, 0.018071955382494908, 0.036143910764989816, 0.07630538277072657, 0.9156645932487188, 0.8956684516038944, 0.10537275901222287, 0.9705582603931312, 0.8127240032965352, 0.5144985396589776, 0.13719961057572738, 0.034299902643931846, 0.3086991237953866, 0.034299902643931846, 0.5689583545608624, 0.008367034625895036, 0.3765165581652766, 0.016734069251790072, 0.025101103877685108, 0.7070548131482038, 0.26935421453264907, 0.8717632228787877, 0.30742787227783774, 0.13175480240478762, 0.5270192096191505, 0.04391826746826254, 0.29992486798459467, 0.03749060849807433, 0.6373403444672636, 0.8976716939055549, 0.8460055156653925, 0.8109296106083846, 0.6351112912137304, 0.09073018445910434, 0.272190553377313, 0.022682546114776086, 0.4120577793025281, 0.5003558748673556, 0.08829809556482746, 0.9541587292518225, 0.8473431206688822, 0.0445970063509938, 0.0445970063509938, 0.5262334290212854, 0.07175910395744801, 0.28703641582979206, 0.1195985065957467, 0.4663893359518374, 0.04663893359518374, 0.4663893359518374, 0.8142403099834348, 0.9943356207863981, 0.7977763731288409, 0.9526004986565998, 0.9524901940863991, 0.4738791724960962, 0.2595052611288146, 0.20309107392689837, 0.04513134976153297, 0.022565674880766485, 0.8754535716251062, 0.968144689460522, 0.8901159480824782, 0.8591918746226254, 0.14319864577043756, 0.3244682279366436, 0.06489364558732871, 0.6489364558732872, 0.9820784215559205, 0.9235618592614099, 0.9753453807999587, 0.9340518157127259, 0.43617599621377023, 0.2525229451763933, 0.2754795765560654, 0.02295663137967212, 0.1688380215606978, 0.5267746272693771, 0.16208450069826988, 0.1215633755237024, 0.020260562587283735, 0.4906590882106651, 0.05772459861301942, 0.1731737958390583, 0.02886229930650971, 0.2597606937585874, 0.34510963676209383, 0.03451096367620938, 0.24157674573346566, 0.27608770940967503, 0.06902192735241876, 0.3409050932390662, 0.3200986790977147, 0.17765476689923168, 0.08482614996089441, 0.07682368298345153, 0.9954832924858317, 0.4624534182706072, 0.04867930718637971, 0.34075515030465797, 0.04867930718637971, 0.09735861437275942, 0.9168434730697055, 0.8305835894868879, 0.9820258610603124, 0.8647349896393679, 0.06176678497424056, 0.06176678497424056, 0.7967802802103948, 0.15935605604207898, 0.013279671336839913, 0.039839014010519744, 0.6604387990493069, 0.10359824298812657, 0.19424670560273735, 0.025899560747031643, 0.012949780373515822, 0.9499263459577286, 0.10877650280689759, 0.8702120224551807, 0.8692223669968608, 0.9291298731073565, 0.9564908941342992, 0.9516482306009012, 0.9928616716047411, 0.2961042680091749, 0.3257146948100924, 0.02961042680091749, 0.3257146948100924, 0.7810881917216411, 0.5485323986897102, 0.1611074177969778, 0.19179454499640214, 0.07671781799856085, 0.019179454499640213, 0.12578778270618535, 0.18868167405927802, 0.6289389135309268, 0.06289389135309267, 0.154141055073169, 0.8477758029024295, 0.2549368181135665, 0.701076249812308, 0.9913954946392708, 0.1423311774762255, 0.7828214761192404, 0.07116558873811275, 0.994028597637805, 0.20236756460731456, 0.008798589765535415, 0.6950885914772978, 0.0527915385932125, 0.04399294882767708, 0.9421918764135554, 0.9947629579596926, 0.49729783135485034, 0.07104254733640719, 0.42625528401844315, 0.035521273668203596, 0.41221569073119646, 0.5707601871662721, 0.9347968751353489, 0.7470615903074088, 0.8365565373386677, 0.9549862935254181, 0.8288293221529409, 0.4238662078978916, 0.04709624532198795, 0.5651549438638555, 0.8818325146198033, 0.3656243836370001, 0.28593701797252574, 0.1781246997205898, 0.0890623498602949, 0.07968736566447439, 0.9339723354851303, 0.11202004027719334, 0.8961603222175467, 0.8128046615883784, 0.08834833278134548, 0.05300899966880729, 0.017669666556269094, 0.03533933311253819, 0.8982326759679796, 0.9701708102444803, 0.9497320515251214, 0.1460968713503435, 0.46750998832109913, 0.08765812281020609, 0.292193742700687, 0.5108955137961704, 0.1277238784490426, 0.3193096961226065, 0.9736136684697709, 0.9561755416358628, 0.7505673677850864, 0.832794172525554, 0.7821396270382611, 0.1117342324340373, 0.08938738594722984, 0.9062679044376244, 0.9630831575074418, 0.4992693465118949, 0.33774102852275245, 0.14684392544467498, 0.014684392544467498, 0.11708088186943813, 0.7024852912166288, 0.07317555116839883, 0.10244577163575837, 0.014635110233679766, 0.5629691921471996, 0.04967375224828233, 0.3808321005701645, 0.9870430785858113, 0.37764740286415277, 0.5664711042962292, 0.03776474028641528, 0.3400692255198361, 0.04250865318997951, 0.5951211446597131, 0.9758091433698585, 0.8152729919043514, 0.10190912398804393, 0.6487327504033487, 0.07543404074457544, 0.19612850593589612, 0.015086808148915085, 0.07543404074457544, 0.11283462575774275, 0.037611541919247586, 0.07522308383849517, 0.07522308383849517, 0.7146192964657041, 0.9967086855700329, 0.9787892107789394, 0.9745644831586227, 0.7681742417056526, 0.07681742417056527, 0.10242323222742035, 0.051211616113710175, 0.07639687437558988, 0.6875718693803089, 0.07639687437558988, 0.15279374875117976, 0.9255353841044643, 0.31759136515600916, 0.1814807800891481, 0.09074039004457406, 0.40833175520058324, 0.4729327256085894, 0.5202259981694484, 0.892632989356246, 0.7445815035027429, 0.04963876690018286, 0.17373568415064003, 0.7271783961563747, 0.09695711948751662, 0.16159519914586104, 0.016159519914586105, 0.016159519914586105, 0.8252599258111674, 0.8875826763162921, 0.9629407856282874, 0.8738177098318117, 0.10922721372897647, 0.9000104206695406, 0.8760772532172472, 0.11427094607181486, 0.930915619246093, 0.046545780962304655, 0.2851301008940852, 0.22810408071526816, 0.45620816143053633, 0.9290525879367012, 0.06058043644623319, 0.8965904594042512, 0.036348261867739914, 0.012116087289246638, 0.970684890017849, 0.7427142234288001, 0.18567855585720003, 0.061892851952400005, 0.8769014820722517, 0.8974608667123746, 0.3677869797535778, 0.597653842099564, 0.022986686234598614, 0.022986686234598614, 0.9796098382489099, 0.8206743823893806, 0.10364775595106852, 0.6996223526697125, 0.20729551190213705, 0.9622573418598658, 0.6281176023752026, 0.35502299264685366, 0.027309460972834897, 0.976290158585737, 0.19958185987975152, 0.6985365095791303, 0.09979092993987576, 0.8798693928079967, 0.9173087985881585, 0.929349266407836, 0.5789729175625213, 0.22889626973402008, 0.188502810369193], \"Term\": [\"02\", \"03\", \"04\", \"05\", \"06\", \"07\", \"08\", \"09\", \"11\", \"11\", \"1100\", \"1100\", \"2000s\", \"2021\", \"2021\", \"2021\", \"2021\", \"2021\", \"23\", \"3210\", \"3210\", \"3210\", \"3310\", \"3310\", \"3310\", \"3310\", \"36hour\", \"42\", \"480\", \"53\", \"5g\", \"5g\", \"5g\", \"5g\", \"5g\", \"808\", \"808\", \"81\", \"actually\", \"actually\", \"actually\", \"agreement\", \"amp\", \"amp\", \"amp\", \"amp\", \"amp\", \"anc\", \"android\", \"android\", \"android\", \"android\", \"android\", \"androidgames\", \"announce\", \"anything\", \"anything\", \"apple\", \"apple\", \"apple\", \"april\", \"april\", \"arabia\", \"ashnikko\", \"asus\", \"audio\", \"audio\", \"auto\", \"back\", \"back\", \"back\", \"back\", \"back\", \"ball\", \"better\", \"better\", \"better\", \"better\", \"better\", \"beyond\", \"bh205\", \"biggest\", \"biggest\", \"biggest\", \"biggest\", \"bluetooth\", \"bluetooth\", \"bought\", \"bought\", \"brand\", \"brand\", \"brand\", \"brick\", \"brick\", \"brick\", \"brings\", \"brings\", \"brings\", \"bro\", \"bro\", \"bunch\", \"bunch\", \"bunch\", \"buy\", \"buy\", \"buy\", \"buy\", \"c10\", \"c20\", \"cant\", \"cant\", \"chart\", \"cloud\", \"cloud\", \"cloudnative\", \"communication\", \"conclude\", \"connecting\", \"connecting\", \"cricket\", \"crosslicensing\", \"cry\", \"csps\", \"cuz\", \"damn\", \"damn\", \"damn\", \"dante\", \"day\", \"day\", \"day\", \"day\", \"deal\", \"deal\", \"deal\", \"deal\", \"deal\", \"deploys\", \"designed\", \"designer\", \"devil\", \"dish\", \"dish\", \"display\", \"display\", \"dispute\", \"dream\", \"earbuds\", \"earbuds\", \"earphone\", \"earphone\", \"ease\", \"ended\", \"even\", \"even\", \"even\", \"even\", \"expands\", \"expands\", \"expected\", \"feat\", \"featuring\", \"featuring\", \"feeling\", \"fight\", \"filmed\", \"first\", \"first\", \"first\", \"first\", \"first\", \"flip\", \"flip\", \"flip\", \"flipkart\", \"flopaj\", \"forgot\", \"fridaylivestream\", \"friend\", \"friend\", \"fun\", \"g10\", \"g20\", \"gambit\", \"game\", \"game\", \"game\", \"game\", \"generation\", \"get\", \"get\", \"get\", \"get\", \"get\", \"global\", \"global\", \"global\", \"global\", \"global\", \"good\", \"good\", \"good\", \"good\", \"good\", \"got\", \"got\", \"got\", \"got\", \"got\", \"happy\", \"happy\", \"hd\", \"headset\", \"hello\", \"hmd\", \"hmd\", \"hmd\", \"hmd\", \"htc\", \"huawei\", \"huawei\", \"hydraulic\", \"im\", \"im\", \"im\", \"im\", \"im\", \"india\", \"india\", \"india\", \"innovative\", \"introduces\", \"iot\", \"iot\", \"iot\", \"iphone\", \"iphone\", \"iphone\", \"john\", \"know\", \"know\", \"know\", \"know\", \"knuckle\", \"lab\", \"last\", \"last\", \"last\", \"last\", \"launch\", \"launch\", \"launch\", \"launch\", \"launch\", \"launched\", \"launched\", \"launched\", \"lenovo\", \"lenovo\", \"lg\", \"lg\", \"li\", \"licensing\", \"life\", \"life\", \"life\", \"life\", \"life\", \"like\", \"like\", \"like\", \"like\", \"like\", \"lite\", \"lite\", \"litigation\", \"little\", \"little\", \"little\", \"little\", \"live\", \"live\", \"live\", \"longevity\", \"longlasting\", \"longstanding\", \"look\", \"look\", \"look\", \"look\", \"love\", \"love\", \"love\", \"luck\", \"lumia\", \"lumia\", \"lumia\", \"make\", \"make\", \"make\", \"make\", \"making\", \"making\", \"making\", \"mayer\", \"meat\", \"meme\", \"microwave\", \"midrange\", \"mobile\", \"mobile\", \"mobile\", \"mobile\", \"mobile\", \"mobily\", \"mom\", \"moto\", \"motorola\", \"motorola\", \"move\", \"move\", \"move\", \"multiyear\", \"naming\", \"native\", \"neckband\", \"network\", \"network\", \"network\", \"network\", \"new\", \"new\", \"new\", \"new\", \"new\", \"next\", \"next\", \"next\", \"next\", \"next\", \"nok\", \"nok\", \"nok\", \"nok\", \"nok\", \"nokia\", \"nokia\", \"nokia\", \"nokia\", \"nokia\", \"nokiac20\", \"nokias\", \"nokias\", \"nokias\", \"nokias\", \"nokias\", \"nokiax10\", \"nortje\", \"nougat\", \"oh\", \"oh\", \"oh\", \"old\", \"old\", \"old\", \"old\", \"one\", \"one\", \"one\", \"one\", \"one\", \"oppo\", \"optus\", \"optus\", \"outsold\", \"overhauled\", \"pakvssa\", \"party\", \"patent\", \"people\", \"people\", \"people\", \"people\", \"perfect\", \"phone\", \"phone\", \"phone\", \"phone\", \"phone\", \"pick\", \"pick\", \"pick\", \"pick\", \"play\", \"play\", \"portfolio\", \"portfolio\", \"premarket\", \"price\", \"price\", \"price\", \"prince\", \"princess\", \"princess\", \"princess\", \"princess\", \"princess\", \"provider\", \"puzzle\", \"quality\", \"quality\", \"quality\", \"quality\", \"really\", \"really\", \"receiving\", \"reference\", \"refreshed\", \"reuters\", \"revamped\", \"right\", \"right\", \"right\", \"rn\", \"rt\", \"rt\", \"rt\", \"rt\", \"rt\", \"safeguard\", \"safety\", \"safety\", \"samsung\", \"samsung\", \"samsung\", \"samsung\", \"samsung\", \"saudi\", \"scalable\", \"sent\", \"series\", \"series\", \"series\", \"series\", \"service\", \"service\", \"service\", \"settle\", \"settled\", \"sha\", \"simplicity\", \"six\", \"six\", \"six\", \"slice\", \"slumber\", \"smartphone\", \"smartphone\", \"smartphone\", \"smartphone\", \"smartphones\", \"smartphones\", \"smartphones\", \"smartphones\", \"smartphones\", \"snake\", \"snake\", \"snake\", \"snapdragon\", \"something\", \"something\", \"something\", \"song\", \"song\", \"song\", \"specification\", \"stan\", \"stan\", \"still\", \"still\", \"still\", \"still\", \"still\", \"stock\", \"stock\", \"stock\", \"stock\", \"stock\", \"struggle\", \"t2000\", \"t3110\", \"take\", \"take\", \"take\", \"take\", \"talk\", \"talk\", \"talk\", \"talk\", \"tanked\", \"thank\", \"thank\", \"thank\", \"thank\", \"thats\", \"thats\", \"theatre\", \"think\", \"think\", \"think\", \"time\", \"time\", \"time\", \"time\", \"time\", \"tipped\", \"toji\", \"transport\", \"trial\", \"trial\", \"triplethreat\", \"twitter\", \"twitter\", \"tws\", \"tws\", \"uk\", \"uk\", \"uk\", \"unveiled\", \"update\", \"update\", \"update\", \"update\", \"updated\", \"use\", \"use\", \"use\", \"ux\", \"verizon\", \"want\", \"want\", \"want\", \"want\", \"web\", \"weird\", \"wireless\", \"wireless\", \"wireless\", \"wont\", \"would\", \"would\", \"would\", \"x10\", \"x20\", \"x20\", \"x20\", \"xeon\", \"xpress\", \"xseries\", \"year\", \"year\", \"year\"]}, \"R\": 30, \"lambda.step\": 0.01, \"plot.opts\": {\"xlab\": \"PC1\", \"ylab\": \"PC2\"}, \"topic.order\": [1, 4, 5, 3, 2]};\n\nfunction LDAvis_load_lib(url, callback){\n  var s = document.createElement('script');\n  s.src = url;\n  s.async = true;\n  s.onreadystatechange = s.onload = callback;\n  s.onerror = function(){console.warn(\"failed to load library \" + url);};\n  document.getElementsByTagName(\"head\")[0].appendChild(s);\n}\n\nif(typeof(LDAvis) !== \"undefined\"){\n   // already loaded: just create the visualization\n   !function(LDAvis){\n       new LDAvis(\"#\" + \"ldavis_el9594871399141309021444143268173\", ldavis_el9594871399141309021444143268173_data);\n   }(LDAvis);\n}else if(typeof define === \"function\" && define.amd){\n   // require.js is available: use it to load d3/LDAvis\n   require.config({paths: {d3: \"https://d3js.org/d3.v5\"}});\n   require([\"d3\"], function(d3){\n      window.d3 = d3;\n      LDAvis_load_lib(\"https://cdn.jsdelivr.net/gh/bmabey/pyLDAvis@3.3.1/pyLDAvis/js/ldavis.v3.0.0.js\", function(){\n        new LDAvis(\"#\" + \"ldavis_el9594871399141309021444143268173\", ldavis_el9594871399141309021444143268173_data);\n      });\n    });\n}else{\n    // require.js not available: dynamically load d3 & LDAvis\n    LDAvis_load_lib(\"https://d3js.org/d3.v5.js\", function(){\n         LDAvis_load_lib(\"https://cdn.jsdelivr.net/gh/bmabey/pyLDAvis@3.3.1/pyLDAvis/js/ldavis.v3.0.0.js\", function(){\n                 new LDAvis(\"#\" + \"ldavis_el9594871399141309021444143268173\", ldavis_el9594871399141309021444143268173_data);\n            })\n         });\n}\n</script>"
     },
     "execution_count": 12,
     "metadata": {},
     "output_type": "execute_result"
    }
   ],
   "source": [
    "fig = pyLDAvis.sklearn.prepare(lda, words, vectorizer)\n",
    "fig"
   ],
   "metadata": {
    "collapsed": false,
    "pycharm": {
     "name": "#%%\n"
    }
   }
  },
  {
   "cell_type": "markdown",
   "source": [
    "### Pipelines, saving models\n",
    "There are 3 pipelines to process data to different outputs. I have also saved already\n",
    "processed data. All of that are going to be used in ,,What Twitter thinks about company\" dashboard"
   ],
   "metadata": {
    "collapsed": false,
    "pycharm": {
     "name": "#%% md\n"
    }
   }
  },
  {
   "cell_type": "code",
   "execution_count": 13,
   "outputs": [],
   "source": [
    "sentiment_steps = [('normalizer', normalizer), ('sentiment', sa)]\n",
    "sentiment_pipeline = Pipeline(sentiment_steps)\n",
    "\n",
    "words_steps = [('normalizer', normalizer), ('vectorizer', vectorizer), ('lda', lda), ('top_words', top)]\n",
    "words_pipeline = Pipeline(words_steps)\n",
    "\n",
    "tsne_steps = [('normalizer', normalizer), ('vectorizer', vectorizer), ('lda', lda), ('tsne', tsne)]\n",
    "tsne_pipeline=Pipeline(tsne_steps)\n",
    "\n",
    "dump(sentiment_pipeline, open('../models/sentiment_pipeline.pkl', 'wb'))\n",
    "dump(words_pipeline, open('../models/words_pipeline.pkl', 'wb'))\n",
    "dump(tsne_pipeline, open('../models/tsne_pipeline.pkl', 'wb'))\n",
    "\n",
    "json.dump(words_top, open('../dashboard/words_top.json', 'w'))\n",
    "df.to_csv('../dashboard/tweets_nlp.csv')\n"
   ],
   "metadata": {
    "collapsed": false,
    "pycharm": {
     "name": "#%%\n"
    }
   }
  }
 ],
 "metadata": {
  "kernelspec": {
   "display_name": "Python 3",
   "language": "python",
   "name": "python3"
  },
  "language_info": {
   "codemirror_mode": {
    "name": "ipython",
    "version": 2
   },
   "file_extension": ".py",
   "mimetype": "text/x-python",
   "name": "python",
   "nbconvert_exporter": "python",
   "pygments_lexer": "ipython2",
   "version": "2.7.6"
  }
 },
 "nbformat": 4,
 "nbformat_minor": 0
}